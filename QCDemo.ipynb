{
 "cells": [
  {
   "cell_type": "code",
   "execution_count": 2,
   "metadata": {
    "tags": []
   },
   "outputs": [],
   "source": [
    "from qiskit import *\n",
    "from qiskit_aer import *\n",
    "from qiskit.primitives import *\n",
    "from qiskit.circuit.library import *\n",
    "from qiskit.visualization import *\n",
    "from math import *"
   ]
  },
  {
   "cell_type": "code",
   "execution_count": 20,
   "metadata": {
    "tags": []
   },
   "outputs": [
    {
     "name": "stderr",
     "output_type": "stream",
     "text": [
      "qiskit_runtime_service.__init__:INFO:2024-03-27 16:08:06,193: Default instance: ibm-q/open/main\n"
     ]
    },
    {
     "data": {
      "text/plain": [
       "'ibm_osaka'"
      ]
     },
     "execution_count": 20,
     "metadata": {},
     "output_type": "execute_result"
    }
   ],
   "source": [
    "from qiskit_ibm_runtime import QiskitRuntimeService\n",
    "service = QiskitRuntimeService(channel=\"ibm_quantum\")\n",
    "backend = service.least_busy(operational=True, simulator=False)\n",
    "backend.name"
   ]
  },
  {
   "cell_type": "markdown",
   "metadata": {},
   "source": [
    "### Generate a list of all marked states less than K"
   ]
  },
  {
   "cell_type": "code",
   "execution_count": 4,
   "metadata": {
    "tags": []
   },
   "outputs": [],
   "source": [
    "def generate_marked_states(k, intList, num_qubits):\n",
    "    \"\"\"Generate binary strings for integers less than k and present in intList.\"\"\"\n",
    "    return [f\"{i:0{num_qubits}b}\" for i in range(k) if i in intList], num_qubits"
   ]
  },
  {
   "cell_type": "markdown",
   "metadata": {},
   "source": [
    "### Create the oracle used in the Grover's algorithm"
   ]
  },
  {
   "cell_type": "code",
   "execution_count": 5,
   "metadata": {
    "tags": []
   },
   "outputs": [],
   "source": [
    "def grover_oracle(k, intList, num_qubits):\n",
    "    \"\"\"Create a Grover oracle that marks states less than k and present in intList.\"\"\"\n",
    "    marked_states, _ = generate_marked_states(k, intList, num_qubits)\n",
    "    qc = QuantumCircuit(num_qubits)\n",
    "\n",
    "    for target in marked_states:\n",
    "        zero_inds = [i for i, bit in enumerate(reversed(target)) if bit == '0']\n",
    "        qc.x(zero_inds)\n",
    "\n",
    "        if num_qubits > 1:\n",
    "            qc.h(num_qubits - 1)\n",
    "            qc.mcx(list(range(num_qubits - 1)), num_qubits - 1)\n",
    "            qc.h(num_qubits - 1)\n",
    "        else:\n",
    "            qc.z(0)\n",
    "\n",
    "        qc.x(zero_inds)\n",
    "    orcale = qc.to_gate()\n",
    "    return orcale"
   ]
  },
  {
   "cell_type": "markdown",
   "metadata": {},
   "source": [
    "### Create the diffusion operator used in the Grover's algorithm used to amplify the amplitude of the marked states"
   ]
  },
  {
   "cell_type": "code",
   "execution_count": 6,
   "metadata": {
    "tags": []
   },
   "outputs": [],
   "source": [
    "def diffusion_operator(num_qubits):\n",
    "    \"\"\"Constructs the diffusion operator for Grover's algorithm.\"\"\"\n",
    "    qc = QuantumCircuit(num_qubits)\n",
    "\n",
    "    qc.h(range(num_qubits))\n",
    "    qc.x(range(num_qubits))\n",
    "\n",
    "    # MCZ\n",
    "    if num_qubits >= 2:\n",
    "        qc.h(num_qubits-1)\n",
    "        qc.mcx(list(range(num_qubits-1)), num_qubits-1)\n",
    "        qc.h(num_qubits-1)\n",
    "    else:\n",
    "        qc.z(0)\n",
    "\n",
    "    qc.x(range(num_qubits))\n",
    "    qc.h(range(num_qubits))\n",
    "\n",
    "    diffusion = qc.to_gate()\n",
    "    return diffusion"
   ]
  },
  {
   "cell_type": "markdown",
   "metadata": {},
   "source": [
    "### Algorithm that uses Grover's algorithm to find the marked states"
   ]
  },
  {
   "cell_type": "code",
   "execution_count": 21,
   "metadata": {
    "tags": []
   },
   "outputs": [],
   "source": [
    "def less_than_k(k, intList):\n",
    "    \"\"\"Returns a list of integers less than k and present in intList.\"\"\"\n",
    "    if not intList:\n",
    "        raise ValueError(\"intList must not be empty.\")\n",
    "    num_qubits = ceil(log2(max(intList) + 1))\n",
    "    marked_states, _ = generate_marked_states(k, intList, num_qubits)\n",
    "\n",
    "    qc = QuantumCircuit(num_qubits, num_qubits)\n",
    "    qc.h(range(num_qubits))\n",
    "\n",
    "    # Oracle\n",
    "    oracle = grover_oracle(k, intList, num_qubits)\n",
    "    qc.append(oracle, range(num_qubits))\n",
    "\n",
    "    # Diffusion Operator\n",
    "    diffusion_op = diffusion_operator(num_qubits)\n",
    "    qc.append(diffusion_op, range(num_qubits))\n",
    "\n",
    "    # Measurement\n",
    "    qc.measure(range(num_qubits), range(num_qubits))\n",
    "\n",
    "    # Execute the Circuit\n",
    "    result = backend.run(transpile(qc, backend, optimization_level=3), shots=2000).result()\n",
    "    counts = result.get_counts(qc)\n",
    "    topSamples = sorted(counts.items(), key=lambda x: x[1], reverse=True)[:len(marked_states)]\n",
    "    topKeys = [int(key, 2) for key, value in topSamples]\n",
    "\n",
    "    return topKeys"
   ]
  },
  {
   "cell_type": "markdown",
   "metadata": {},
   "source": [
    "# Example"
   ]
  },
  {
   "cell_type": "code",
   "execution_count": 22,
   "metadata": {
    "tags": []
   },
   "outputs": [
    {
     "name": "stdout",
     "output_type": "stream",
     "text": [
      "[2, 3, 1]\n"
     ]
    }
   ],
   "source": [
    "A = less_than_k(4, [7,6,5,4,3,2,1])\n",
    "print(A)"
   ]
  }
 ],
 "metadata": {
  "kernelspec": {
   "display_name": "Qiskit v1.0.2 (ipykernel)",
   "language": "python",
   "name": "python3"
  },
  "language_info": {
   "codemirror_mode": {
    "name": "ipython",
    "version": 3
   },
   "file_extension": ".py",
   "mimetype": "text/x-python",
   "name": "python",
   "nbconvert_exporter": "python",
   "pygments_lexer": "ipython3",
   "version": "3.10.8"
  },
  "widgets": {
   "application/vnd.jupyter.widget-state+json": {
    "state": {},
    "version_major": 2,
    "version_minor": 0
   }
  }
 },
 "nbformat": 4,
 "nbformat_minor": 4
}
