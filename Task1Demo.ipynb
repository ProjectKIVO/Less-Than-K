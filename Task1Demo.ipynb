{
 "cells": [
  {
   "cell_type": "code",
   "execution_count": 1,
   "metadata": {},
   "outputs": [],
   "source": [
    "from qiskit import *\n",
    "from qiskit.primitives import *\n",
    "from qiskit.circuit.library import *\n",
    "from qiskit.visualization import *\n",
    "from math import *"
   ]
  },
  {
   "cell_type": "code",
   "execution_count": 2,
   "metadata": {},
   "outputs": [],
   "source": [
    "def generate_marked_states(k, intList):\n",
    "    num_qubits = ceil(log2(max(intList) + 1))\n",
    "    return [f\"{i:0{num_qubits}b}\" for i in range(k) if i in intList]"
   ]
  },
  {
   "cell_type": "code",
   "execution_count": 3,
   "metadata": {},
   "outputs": [],
   "source": [
    "def grover_oracle(k, intList):\n",
    "    num_qubits = ceil(log2(max(intList) + 1))\n",
    "    marked_states = generate_marked_states(k, intList)\n",
    "    qc = QuantumCircuit(num_qubits)\n",
    "\n",
    "    for target in marked_states:\n",
    "        zero_inds = [i for i, bit in enumerate(reversed(target)) if bit == '0']\n",
    "        qc.x(zero_inds)\n",
    "\n",
    "        if num_qubits > 1:\n",
    "            qc.h(num_qubits - 1)\n",
    "            qc.mcx(list(range(num_qubits - 1)), num_qubits - 1)\n",
    "            qc.h(num_qubits - 1)\n",
    "        else:\n",
    "            qc.z(0)\n",
    "\n",
    "        qc.x(zero_inds)\n",
    "    return qc"
   ]
  },
  {
   "cell_type": "code",
   "execution_count": 4,
   "metadata": {},
   "outputs": [],
   "source": [
    "def less_than_k(k, intList):\n",
    "    markedStateLen = len(generate_marked_states(k, intList))\n",
    "    oracle = grover_oracle(k, intList)\n",
    "    grover_op = GroverOperator(oracle)\n",
    "    optimal_num_iterations = floor(pi / (4 * asin(sqrt(markedStateLen / 2**grover_op.num_qubits))))\n",
    "    qc = QuantumCircuit(grover_op.num_qubits)\n",
    "    qc.h(range(grover_op.num_qubits))\n",
    "    qc.compose(grover_op.power(optimal_num_iterations), inplace=True)\n",
    "    qc.measure_all()\n",
    "    sampler = Sampler()\n",
    "    sampler.options.default_shots = 1024\n",
    "    sampler.options.seed = 42\n",
    "\n",
    "    result = sampler.run(qc).result()\n",
    "    dist = result.quasi_dists\n",
    "    plot_distribution(dist)\n",
    "    allSamples = dist[0]\n",
    "    topSamples = sorted(allSamples.items(), key=lambda x: x[1], reverse=True)[:markedStateLen]\n",
    "    topKeys = [key for key, value in topSamples]\n",
    "\n",
    "    return topKeys"
   ]
  },
  {
   "cell_type": "code",
   "execution_count": 5,
   "metadata": {},
   "outputs": [
    {
     "name": "stdout",
     "output_type": "stream",
     "text": [
      "[1, 4, 6]\n"
     ]
    }
   ],
   "source": [
    "k = 7\n",
    "intList = [4,9,11,14,1,13,6,15]\n",
    "print(less_than_k(k, intList))"
   ]
  }
 ],
 "metadata": {
  "kernelspec": {
   "display_name": "Python 3",
   "language": "python",
   "name": "python3"
  },
  "language_info": {
   "codemirror_mode": {
    "name": "ipython",
    "version": 3
   },
   "file_extension": ".py",
   "mimetype": "text/x-python",
   "name": "python",
   "nbconvert_exporter": "python",
   "pygments_lexer": "ipython3",
   "version": "3.12.2"
  }
 },
 "nbformat": 4,
 "nbformat_minor": 2
}
