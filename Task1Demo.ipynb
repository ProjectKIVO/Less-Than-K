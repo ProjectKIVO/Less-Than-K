{
 "cells": [
  {
   "cell_type": "code",
   "execution_count": 7,
   "metadata": {},
   "outputs": [],
   "source": [
    "from qiskit import *\n",
    "from qiskit.primitives import *\n",
    "from qiskit.circuit.library import *\n",
    "from qiskit.visualization import *\n",
    "from math import *"
   ]
  },
  {
   "cell_type": "code",
   "execution_count": 8,
   "metadata": {},
   "outputs": [],
   "source": [
    "DEFAULT_SHOTS = 1024\n",
    "SEED = 42"
   ]
  },
  {
   "cell_type": "code",
   "execution_count": 9,
   "metadata": {},
   "outputs": [],
   "source": [
    "def generate_marked_states(k, intList):\n",
    "    \"\"\"\n",
    "    Generate binary strings for integers less than k and present in intList,\n",
    "    \"\"\"\n",
    "    if not intList:\n",
    "        raise ValueError(\"intList must not be empty.\")\n",
    "    num_qubits = ceil(log2(max(intList) + 1))\n",
    "    return [f\"{i:0{num_qubits}b}\" for i in range(k) if i in intList], num_qubits"
   ]
  },
  {
   "cell_type": "code",
   "execution_count": 10,
   "metadata": {},
   "outputs": [],
   "source": [
    "def grover_oracle(k, intList):\n",
    "    \"\"\"\n",
    "    Construct a Grover oracle that marks states less than k and present in intList.\n",
    "    \"\"\"\n",
    "    marked_states, num_qubits = generate_marked_states(k, intList)\n",
    "    qc = QuantumCircuit(num_qubits)\n",
    "\n",
    "    for target in marked_states:\n",
    "        zero_inds = [i for i, bit in enumerate(reversed(target)) if bit == '0']\n",
    "        qc.x(zero_inds)\n",
    "\n",
    "        if num_qubits > 1:\n",
    "            qc.h(num_qubits - 1)\n",
    "            qc.mcx(list(range(num_qubits - 1)), num_qubits - 1)\n",
    "            qc.h(num_qubits - 1)\n",
    "        else:\n",
    "            qc.z(0)\n",
    "\n",
    "        qc.x(zero_inds)\n",
    "    return qc"
   ]
  },
  {
   "cell_type": "code",
   "execution_count": 11,
   "metadata": {},
   "outputs": [],
   "source": [
    "def less_than_k(k, intList):\n",
    "    \"\"\"\n",
    "    Apply Grover's algorithm to find states less than k and in intList. Returns top keys.\n",
    "    \"\"\"\n",
    "    oracle = grover_oracle(k, intList)\n",
    "    grover_op = GroverOperator(oracle)\n",
    "    num_qubits = oracle.num_qubits\n",
    "    markedStateLen = len(generate_marked_states(k, intList)[0])\n",
    "\n",
    "    optimal_num_iterations = floor(pi / (4 * asin(sqrt(markedStateLen / 2**num_qubits))))\n",
    "    qc = QuantumCircuit(num_qubits)\n",
    "    qc.h(range(num_qubits))\n",
    "    qc.compose(grover_op.power(optimal_num_iterations), inplace=True)\n",
    "    qc.measure_all()\n",
    "\n",
    "    sampler = Sampler()\n",
    "    sampler.set_options(shots=DEFAULT_SHOTS, seed_simulator=SEED)\n",
    "\n",
    "    result = sampler.run(qc).result()\n",
    "    dist = result.quasi_dists\n",
    "    allSamples = dist[0]\n",
    "    topSamples = sorted(allSamples.items(), key=lambda x: x[1], reverse=True)[:markedStateLen]\n",
    "    topKeys = [key for key, value in topSamples]\n",
    "\n",
    "    return topKeys"
   ]
  },
  {
   "cell_type": "code",
   "execution_count": 12,
   "metadata": {},
   "outputs": [
    {
     "name": "stdout",
     "output_type": "stream",
     "text": [
      "[4, 1, 6]\n"
     ]
    }
   ],
   "source": [
    "k = 7\n",
    "intList = [4,9,11,14,1,13,6,15]\n",
    "print(less_than_k(k, intList))"
   ]
  }
 ],
 "metadata": {
  "kernelspec": {
   "display_name": "Python 3",
   "language": "python",
   "name": "python3"
  },
  "language_info": {
   "codemirror_mode": {
    "name": "ipython",
    "version": 3
   },
   "file_extension": ".py",
   "mimetype": "text/x-python",
   "name": "python",
   "nbconvert_exporter": "python",
   "pygments_lexer": "ipython3",
   "version": "3.12.2"
  }
 },
 "nbformat": 4,
 "nbformat_minor": 2
}
