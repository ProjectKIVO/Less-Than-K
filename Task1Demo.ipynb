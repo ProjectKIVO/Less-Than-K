{
 "cells": [
  {
   "cell_type": "code",
   "execution_count": 8,
   "metadata": {},
   "outputs": [],
   "source": [
    "from qiskit import *\n",
    "from qiskit_aer import *\n",
    "from qiskit.primitives import *\n",
    "from qiskit.circuit.library import *\n",
    "from qiskit.visualization import *\n",
    "from math import *"
   ]
  },
  {
   "cell_type": "code",
   "execution_count": 9,
   "metadata": {},
   "outputs": [],
   "source": [
    "def generate_marked_states(k, intList, num_qubits):\n",
    "    \"\"\"Generate binary strings for integers less than k and present in intList.\"\"\"\n",
    "    return [f\"{i:0{num_qubits}b}\" for i in range(k) if i in intList], num_qubits"
   ]
  },
  {
   "cell_type": "code",
   "execution_count": 10,
   "metadata": {},
   "outputs": [],
   "source": [
    "def diffusion_operator(num_qubits):\n",
    "    \"\"\"Constructs the diffusion operator for Grover's algorithm.\"\"\"\n",
    "    qc = QuantumCircuit(num_qubits)\n",
    "\n",
    "    qc.h(range(num_qubits))\n",
    "    qc.x(range(num_qubits))\n",
    "\n",
    "    # MCZ\n",
    "    if num_qubits >= 2:\n",
    "        qc.h(num_qubits-1)\n",
    "        qc.mcx(list(range(num_qubits-1)), num_qubits-1)\n",
    "        qc.h(num_qubits-1)\n",
    "    else:\n",
    "        qc.z(0)\n",
    "\n",
    "\n",
    "    qc.x(range(num_qubits))\n",
    "    qc.h(range(num_qubits))\n",
    "\n",
    "    diffusion = qc.to_gate()\n",
    "    return diffusion"
   ]
  },
  {
   "cell_type": "code",
   "execution_count": 11,
   "metadata": {},
   "outputs": [],
   "source": [
    "def grover_oracle(k, intList, num_qubits):\n",
    "    \"\"\"Create a Grover oracle that marks states less than k and present in intList.\"\"\"\n",
    "    marked_states, _ = generate_marked_states(k, intList, num_qubits)\n",
    "    qc = QuantumCircuit(num_qubits)\n",
    "\n",
    "    for target in marked_states:\n",
    "        zero_inds = [i for i, bit in enumerate(reversed(target)) if bit == '0']\n",
    "        qc.x(zero_inds)\n",
    "\n",
    "        if num_qubits > 1:\n",
    "            qc.h(num_qubits - 1)\n",
    "            qc.mcx(list(range(num_qubits - 1)), num_qubits - 1)\n",
    "            qc.h(num_qubits - 1)\n",
    "        else:\n",
    "            qc.z(0)\n",
    "\n",
    "        qc.x(zero_inds)\n",
    "    orcale = qc.to_gate()\n",
    "    return orcale"
   ]
  },
  {
   "cell_type": "code",
   "execution_count": 42,
   "metadata": {},
   "outputs": [],
   "source": [
    "def less_than_k(k, intList):\n",
    "    if not intList:\n",
    "        raise ValueError(\"intList must not be empty.\")\n",
    "    num_qubits = ceil(log2(max(intList) + 1))\n",
    "    marked_states, _ = generate_marked_states(k, intList, num_qubits)\n",
    "\n",
    "    qc = QuantumCircuit(num_qubits, num_qubits)\n",
    "    qc.h(range(num_qubits))\n",
    "\n",
    "    # Oracle\n",
    "    oracle = grover_oracle(k, intList, num_qubits)\n",
    "    qc.append(oracle, range(num_qubits))\n",
    "\n",
    "    # Diffusion Operator\n",
    "    diffusion_op = diffusion_operator(num_qubits)\n",
    "    qc.append(diffusion_op, range(num_qubits))\n",
    "\n",
    "    # Measurement\n",
    "    qc.measure_all()\n",
    "\n",
    "    # Execute the Circuit\n",
    "    backend = Aer.get_backend('qasm_simulator')\n",
    "    result = backend.run(transpile(qc, backend)).result()\n",
    "    counts = result.get_counts(qc)\n",
    "    topSamples = sorted(counts.items(), key=lambda x: x[1], reverse=True)[:len(marked_states)]\n",
    "    topKeys = [key for key, value in topSamples]\n",
    "    topKeys = [int(key.split()[0], 2) for key in topKeys]\n",
    "\n",
    "    return topKeys"
   ]
  },
  {
   "cell_type": "code",
   "execution_count": 43,
   "metadata": {},
   "outputs": [
    {
     "name": "stdout",
     "output_type": "stream",
     "text": [
      "[1, 6, 4]\n"
     ]
    }
   ],
   "source": [
    "k = 7\n",
    "intList = [4,9,11,14,1,13,6,15]\n",
    "print(less_than_k(k, intList))"
   ]
  }
 ],
 "metadata": {
  "kernelspec": {
   "display_name": "Python 3",
   "language": "python",
   "name": "python3"
  },
  "language_info": {
   "codemirror_mode": {
    "name": "ipython",
    "version": 3
   },
   "file_extension": ".py",
   "mimetype": "text/x-python",
   "name": "python",
   "nbconvert_exporter": "python",
   "pygments_lexer": "ipython3",
   "version": "3.12.2"
  }
 },
 "nbformat": 4,
 "nbformat_minor": 2
}
