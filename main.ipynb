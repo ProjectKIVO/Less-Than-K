{
 "cells": [
  {
   "cell_type": "code",
   "execution_count": 37,
   "metadata": {},
   "outputs": [],
   "source": [
    "from qiskit import *\n",
    "from qiskit.visualization import plot_histogram\n",
    "import matplotlib.pyplot as plt\n",
    "import numpy as np"
   ]
  },
  {
   "cell_type": "code",
   "execution_count": 43,
   "metadata": {},
   "outputs": [
    {
     "name": "stderr",
     "output_type": "stream",
     "text": [
      "C:\\Users\\zrz11\\AppData\\Local\\Temp\\ipykernel_30628\\2230923687.py:8: DeprecationWarning: The method ``qiskit.circuit.quantumcircuit.QuantumCircuit.mct()`` is deprecated as of qiskit 0.45.0. It will be removed no earlier than 3 months after the release date. Use QuantumCircuit.mcx as direct replacement.\n",
      "  oracle.mct([0, 1, 2], 3)\n",
      "C:\\Users\\zrz11\\AppData\\Local\\Temp\\ipykernel_30628\\2230923687.py:17: DeprecationWarning: The method ``qiskit.circuit.quantumcircuit.QuantumCircuit.mct()`` is deprecated as of qiskit 0.45.0. It will be removed no earlier than 3 months after the release date. Use QuantumCircuit.mcx as direct replacement.\n",
      "  oracle.mct([0, 1, 2], 3)\n"
     ]
    },
    {
     "data": {
      "text/html": [
       "<pre style=\"word-wrap: normal;white-space: pre;background: #fff0;line-height: 1.1;font-family: &quot;Courier New&quot;,Courier,monospace\">     ┌───┐     ┌───┐┌───┐     ┌───┐\n",
       "q_0: ┤ X ├──■──┤ X ├┤ X ├──■──┤ X ├\n",
       "     └───┘  │  └───┘└───┘  │  └───┘\n",
       "q_1: ───────■──────────────■───────\n",
       "     ┌───┐  │  ┌───┐       │       \n",
       "q_2: ┤ X ├──■──┤ X ├───────■───────\n",
       "     ├───┤┌─┴─┐├───┤┌───┐┌─┴─┐┌───┐\n",
       "q_3: ┤ H ├┤ X ├┤ H ├┤ H ├┤ X ├┤ H ├\n",
       "     └───┘└───┘└───┘└───┘└───┘└───┘</pre>"
      ],
      "text/plain": [
       "     ┌───┐     ┌───┐┌───┐     ┌───┐\n",
       "q_0: ┤ X ├──■──┤ X ├┤ X ├──■──┤ X ├\n",
       "     └───┘  │  └───┘└───┘  │  └───┘\n",
       "q_1: ───────■──────────────■───────\n",
       "     ┌───┐  │  ┌───┐       │       \n",
       "q_2: ┤ X ├──■──┤ X ├───────■───────\n",
       "     ├───┤┌─┴─┐├───┤┌───┐┌─┴─┐┌───┐\n",
       "q_3: ┤ H ├┤ X ├┤ H ├┤ H ├┤ X ├┤ H ├\n",
       "     └───┘└───┘└───┘└───┘└───┘└───┘"
      ]
     },
     "execution_count": 43,
     "metadata": {},
     "output_type": "execute_result"
    }
   ],
   "source": [
    "# define oracle\n",
    "oracle = QuantumCircuit(4, name='oracle')\n",
    "# 0101\n",
    "oracle.x(0)\n",
    "oracle.x(2)\n",
    "\n",
    "oracle.h(3)\n",
    "oracle.mct([0, 1, 2], 3)\n",
    "oracle.h(3)\n",
    "\n",
    "oracle.x(0)\n",
    "oracle.x(2)\n",
    "\n",
    "# 0111\n",
    "oracle.x(0)\n",
    "oracle.h(3)\n",
    "oracle.mct([0, 1, 2], 3)\n",
    "oracle.h(3)\n",
    "oracle.x(0)\n",
    "\n",
    "oracle.to_gate()\n",
    "oracle.draw()"
   ]
  },
  {
   "cell_type": "code",
   "execution_count": 44,
   "metadata": {},
   "outputs": [
    {
     "name": "stdout",
     "output_type": "stream",
     "text": [
      "Statevector([ 0.25+0.000000e+00j,  0.25+0.000000e+00j,  0.25-3.061617e-17j,\n",
      "              0.25+0.000000e+00j,  0.25+0.000000e+00j,  0.25+0.000000e+00j,\n",
      "              0.25-3.061617e-17j,  0.25+0.000000e+00j,  0.25+0.000000e+00j,\n",
      "              0.25+0.000000e+00j, -0.25+3.061617e-17j,  0.25+0.000000e+00j,\n",
      "              0.25+0.000000e+00j,  0.25+0.000000e+00j, -0.25+3.061617e-17j,\n",
      "              0.25+0.000000e+00j],\n",
      "            dims=(2, 2, 2, 2))\n"
     ]
    }
   ],
   "source": [
    "qc = QuantumCircuit(4,4)\n",
    "qc.h([0,1,2,3])\n",
    "qc.append(oracle, [0,1,2,3])\n",
    "\n",
    "job = execute(qc, Aer.get_backend('statevector_simulator'))\n",
    "result = job.result()\n",
    "out_state = result.get_statevector()\n",
    "print(out_state)"
   ]
  },
  {
   "cell_type": "code",
   "execution_count": 45,
   "metadata": {},
   "outputs": [
    {
     "name": "stderr",
     "output_type": "stream",
     "text": [
      "C:\\Users\\zrz11\\AppData\\Local\\Temp\\ipykernel_30628\\1031450679.py:5: DeprecationWarning: The method ``qiskit.circuit.quantumcircuit.QuantumCircuit.mct()`` is deprecated as of qiskit 0.45.0. It will be removed no earlier than 3 months after the release date. Use QuantumCircuit.mcx as direct replacement.\n",
      "  reflection.mct([0, 1, 2], 3)  # Multi-controlled Toffoli\n"
     ]
    },
    {
     "data": {
      "text/html": [
       "<pre style=\"word-wrap: normal;white-space: pre;background: #fff0;line-height: 1.1;font-family: &quot;Courier New&quot;,Courier,monospace\">     ┌───┐┌───┐          ┌───┐┌───┐     \n",
       "q_0: ┤ H ├┤ X ├───────■──┤ X ├┤ H ├─────\n",
       "     ├───┤├───┤       │  ├───┤├───┤     \n",
       "q_1: ┤ H ├┤ X ├───────■──┤ X ├┤ H ├─────\n",
       "     ├───┤├───┤       │  ├───┤├───┤     \n",
       "q_2: ┤ H ├┤ X ├───────■──┤ X ├┤ H ├─────\n",
       "     ├───┤├───┤┌───┐┌─┴─┐├───┤├───┤┌───┐\n",
       "q_3: ┤ H ├┤ X ├┤ H ├┤ X ├┤ H ├┤ X ├┤ H ├\n",
       "     └───┘└───┘└───┘└───┘└───┘└───┘└───┘</pre>"
      ],
      "text/plain": [
       "     ┌───┐┌───┐          ┌───┐┌───┐     \n",
       "q_0: ┤ H ├┤ X ├───────■──┤ X ├┤ H ├─────\n",
       "     ├───┤├───┤       │  ├───┤├───┤     \n",
       "q_1: ┤ H ├┤ X ├───────■──┤ X ├┤ H ├─────\n",
       "     ├───┤├───┤       │  ├───┤├───┤     \n",
       "q_2: ┤ H ├┤ X ├───────■──┤ X ├┤ H ├─────\n",
       "     ├───┤├───┤┌───┐┌─┴─┐├───┤├───┤┌───┐\n",
       "q_3: ┤ H ├┤ X ├┤ H ├┤ X ├┤ H ├┤ X ├┤ H ├\n",
       "     └───┘└───┘└───┘└───┘└───┘└───┘└───┘"
      ]
     },
     "execution_count": 45,
     "metadata": {},
     "output_type": "execute_result"
    }
   ],
   "source": [
    "reflection = QuantumCircuit(4, name='reflection')\n",
    "reflection.h([0,1,2,3])\n",
    "reflection.x([0,1,2,3])\n",
    "reflection.h(3)\n",
    "reflection.mct([0, 1, 2], 3)  # Multi-controlled Toffoli\n",
    "reflection.h(3)\n",
    "reflection.x([0,1,2,3])\n",
    "reflection.h([0,1,2,3])\n",
    "reflection.draw()"
   ]
  },
  {
   "cell_type": "code",
   "execution_count": 46,
   "metadata": {},
   "outputs": [
    {
     "data": {
      "text/html": [
       "<pre style=\"word-wrap: normal;white-space: pre;background: #fff0;line-height: 1.1;font-family: &quot;Courier New&quot;,Courier,monospace\">     ┌───┐┌─────────┐┌─────────────┐┌─┐         \n",
       "q_0: ┤ H ├┤0        ├┤0            ├┤M├─────────\n",
       "     ├───┤│         ││             │└╥┘┌─┐      \n",
       "q_1: ┤ H ├┤1        ├┤1            ├─╫─┤M├──────\n",
       "     ├───┤│  oracle ││  reflection │ ║ └╥┘┌─┐   \n",
       "q_2: ┤ H ├┤2        ├┤2            ├─╫──╫─┤M├───\n",
       "     ├───┤│         ││             │ ║  ║ └╥┘┌─┐\n",
       "q_3: ┤ H ├┤3        ├┤3            ├─╫──╫──╫─┤M├\n",
       "     └───┘└─────────┘└─────────────┘ ║  ║  ║ └╥┘\n",
       "c: 4/════════════════════════════════╩══╩══╩══╩═\n",
       "                                     0  1  2  3 </pre>"
      ],
      "text/plain": [
       "     ┌───┐┌─────────┐┌─────────────┐┌─┐         \n",
       "q_0: ┤ H ├┤0        ├┤0            ├┤M├─────────\n",
       "     ├───┤│         ││             │└╥┘┌─┐      \n",
       "q_1: ┤ H ├┤1        ├┤1            ├─╫─┤M├──────\n",
       "     ├───┤│  oracle ││  reflection │ ║ └╥┘┌─┐   \n",
       "q_2: ┤ H ├┤2        ├┤2            ├─╫──╫─┤M├───\n",
       "     ├───┤│         ││             │ ║  ║ └╥┘┌─┐\n",
       "q_3: ┤ H ├┤3        ├┤3            ├─╫──╫──╫─┤M├\n",
       "     └───┘└─────────┘└─────────────┘ ║  ║  ║ └╥┘\n",
       "c: 4/════════════════════════════════╩══╩══╩══╩═\n",
       "                                     0  1  2  3 "
      ]
     },
     "execution_count": 46,
     "metadata": {},
     "output_type": "execute_result"
    }
   ],
   "source": [
    "qc.append(reflection, [0,1,2,3])\n",
    "qc.measure([0,1,2,3],[0,1,2,3])\n",
    "qc.draw()"
   ]
  },
  {
   "cell_type": "code",
   "execution_count": 47,
   "metadata": {},
   "outputs": [
    {
     "data": {
      "image/png": "[encoded data removed]",
      "text/plain": [
       "<Figure size 700x500 with 1 Axes>"
      ]
     },
     "execution_count": 47,
     "metadata": {},
     "output_type": "execute_result"
    }
   ],
   "source": [
    "backend = Aer.get_backend('qasm_simulator')\n",
    "result = execute(qc, backend, shots=1024).result()\n",
    "counts = result.get_counts()\n",
    "plot_histogram(counts)"
   ]
  }
 ],
 "metadata": {
  "kernelspec": {
   "display_name": "Python 3",
   "language": "python",
   "name": "python3"
  },
  "language_info": {
   "codemirror_mode": {
    "name": "ipython",
    "version": 3
   },
   "file_extension": ".py",
   "mimetype": "text/x-python",
   "name": "python",
   "nbconvert_exporter": "python",
   "pygments_lexer": "ipython3",
   "version": "3.10.10"
  }
 },
 "nbformat": 4,
 "nbformat_minor": 2
}
